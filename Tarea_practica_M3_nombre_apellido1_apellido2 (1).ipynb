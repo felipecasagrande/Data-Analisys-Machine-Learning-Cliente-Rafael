{
  "cells": [
    {
      "cell_type": "code",
      "execution_count": 1,
      "metadata": {
        "id": "ODuvKROc0IwE"
      },
      "outputs": [
        {
          "ename": "FileNotFoundError",
          "evalue": "[Errno 2] No such file or directory: 'C:\\\\\\\\Users\\\\\\\\User2\\\\\\\\Desktop\\\\\\\\Python\\\\\\\\nbaplayers2.csv'",
          "output_type": "error",
          "traceback": [
            "\u001b[1;31m---------------------------------------------------------------------------\u001b[0m",
            "\u001b[1;31mFileNotFoundError\u001b[0m                         Traceback (most recent call last)",
            "Cell \u001b[1;32mIn[1], line 13\u001b[0m\n\u001b[0;32m      7\u001b[0m \u001b[38;5;28;01mimport\u001b[39;00m \u001b[38;5;21;01msys\u001b[39;00m\n\u001b[0;32m     11\u001b[0m file_path \u001b[38;5;241m=\u001b[39m \u001b[38;5;124mr\u001b[39m\u001b[38;5;124m'\u001b[39m\u001b[38;5;124mC:\u001b[39m\u001b[38;5;130;01m\\\\\u001b[39;00m\u001b[38;5;124mUsers\u001b[39m\u001b[38;5;130;01m\\\\\u001b[39;00m\u001b[38;5;124mUser2\u001b[39m\u001b[38;5;130;01m\\\\\u001b[39;00m\u001b[38;5;124mDesktop\u001b[39m\u001b[38;5;130;01m\\\\\u001b[39;00m\u001b[38;5;124mPython\u001b[39m\u001b[38;5;130;01m\\\\\u001b[39;00m\u001b[38;5;124mnbaplayers2.csv\u001b[39m\u001b[38;5;124m'\u001b[39m \n\u001b[1;32m---> 13\u001b[0m df\u001b[38;5;241m=\u001b[39m\u001b[43mpd\u001b[49m\u001b[38;5;241;43m.\u001b[39;49m\u001b[43mread_csv\u001b[49m\u001b[43m(\u001b[49m\u001b[43mfile_path\u001b[49m\u001b[43m,\u001b[49m\u001b[43mdelimiter\u001b[49m\u001b[38;5;241;43m=\u001b[39;49m\u001b[38;5;124;43m'\u001b[39;49m\u001b[38;5;124;43m,\u001b[39;49m\u001b[38;5;124;43m'\u001b[39;49m\u001b[43m)\u001b[49m\n\u001b[0;32m     15\u001b[0m df\n",
            "File \u001b[1;32mc:\\Python312\\Lib\\site-packages\\pandas\\io\\parsers\\readers.py:1026\u001b[0m, in \u001b[0;36mread_csv\u001b[1;34m(filepath_or_buffer, sep, delimiter, header, names, index_col, usecols, dtype, engine, converters, true_values, false_values, skipinitialspace, skiprows, skipfooter, nrows, na_values, keep_default_na, na_filter, verbose, skip_blank_lines, parse_dates, infer_datetime_format, keep_date_col, date_parser, date_format, dayfirst, cache_dates, iterator, chunksize, compression, thousands, decimal, lineterminator, quotechar, quoting, doublequote, escapechar, comment, encoding, encoding_errors, dialect, on_bad_lines, delim_whitespace, low_memory, memory_map, float_precision, storage_options, dtype_backend)\u001b[0m\n\u001b[0;32m   1013\u001b[0m kwds_defaults \u001b[38;5;241m=\u001b[39m _refine_defaults_read(\n\u001b[0;32m   1014\u001b[0m     dialect,\n\u001b[0;32m   1015\u001b[0m     delimiter,\n\u001b[1;32m   (...)\u001b[0m\n\u001b[0;32m   1022\u001b[0m     dtype_backend\u001b[38;5;241m=\u001b[39mdtype_backend,\n\u001b[0;32m   1023\u001b[0m )\n\u001b[0;32m   1024\u001b[0m kwds\u001b[38;5;241m.\u001b[39mupdate(kwds_defaults)\n\u001b[1;32m-> 1026\u001b[0m \u001b[38;5;28;01mreturn\u001b[39;00m \u001b[43m_read\u001b[49m\u001b[43m(\u001b[49m\u001b[43mfilepath_or_buffer\u001b[49m\u001b[43m,\u001b[49m\u001b[43m \u001b[49m\u001b[43mkwds\u001b[49m\u001b[43m)\u001b[49m\n",
            "File \u001b[1;32mc:\\Python312\\Lib\\site-packages\\pandas\\io\\parsers\\readers.py:620\u001b[0m, in \u001b[0;36m_read\u001b[1;34m(filepath_or_buffer, kwds)\u001b[0m\n\u001b[0;32m    617\u001b[0m _validate_names(kwds\u001b[38;5;241m.\u001b[39mget(\u001b[38;5;124m\"\u001b[39m\u001b[38;5;124mnames\u001b[39m\u001b[38;5;124m\"\u001b[39m, \u001b[38;5;28;01mNone\u001b[39;00m))\n\u001b[0;32m    619\u001b[0m \u001b[38;5;66;03m# Create the parser.\u001b[39;00m\n\u001b[1;32m--> 620\u001b[0m parser \u001b[38;5;241m=\u001b[39m \u001b[43mTextFileReader\u001b[49m\u001b[43m(\u001b[49m\u001b[43mfilepath_or_buffer\u001b[49m\u001b[43m,\u001b[49m\u001b[43m \u001b[49m\u001b[38;5;241;43m*\u001b[39;49m\u001b[38;5;241;43m*\u001b[39;49m\u001b[43mkwds\u001b[49m\u001b[43m)\u001b[49m\n\u001b[0;32m    622\u001b[0m \u001b[38;5;28;01mif\u001b[39;00m chunksize \u001b[38;5;129;01mor\u001b[39;00m iterator:\n\u001b[0;32m    623\u001b[0m     \u001b[38;5;28;01mreturn\u001b[39;00m parser\n",
            "File \u001b[1;32mc:\\Python312\\Lib\\site-packages\\pandas\\io\\parsers\\readers.py:1620\u001b[0m, in \u001b[0;36mTextFileReader.__init__\u001b[1;34m(self, f, engine, **kwds)\u001b[0m\n\u001b[0;32m   1617\u001b[0m     \u001b[38;5;28mself\u001b[39m\u001b[38;5;241m.\u001b[39moptions[\u001b[38;5;124m\"\u001b[39m\u001b[38;5;124mhas_index_names\u001b[39m\u001b[38;5;124m\"\u001b[39m] \u001b[38;5;241m=\u001b[39m kwds[\u001b[38;5;124m\"\u001b[39m\u001b[38;5;124mhas_index_names\u001b[39m\u001b[38;5;124m\"\u001b[39m]\n\u001b[0;32m   1619\u001b[0m \u001b[38;5;28mself\u001b[39m\u001b[38;5;241m.\u001b[39mhandles: IOHandles \u001b[38;5;241m|\u001b[39m \u001b[38;5;28;01mNone\u001b[39;00m \u001b[38;5;241m=\u001b[39m \u001b[38;5;28;01mNone\u001b[39;00m\n\u001b[1;32m-> 1620\u001b[0m \u001b[38;5;28mself\u001b[39m\u001b[38;5;241m.\u001b[39m_engine \u001b[38;5;241m=\u001b[39m \u001b[38;5;28;43mself\u001b[39;49m\u001b[38;5;241;43m.\u001b[39;49m\u001b[43m_make_engine\u001b[49m\u001b[43m(\u001b[49m\u001b[43mf\u001b[49m\u001b[43m,\u001b[49m\u001b[43m \u001b[49m\u001b[38;5;28;43mself\u001b[39;49m\u001b[38;5;241;43m.\u001b[39;49m\u001b[43mengine\u001b[49m\u001b[43m)\u001b[49m\n",
            "File \u001b[1;32mc:\\Python312\\Lib\\site-packages\\pandas\\io\\parsers\\readers.py:1880\u001b[0m, in \u001b[0;36mTextFileReader._make_engine\u001b[1;34m(self, f, engine)\u001b[0m\n\u001b[0;32m   1878\u001b[0m     \u001b[38;5;28;01mif\u001b[39;00m \u001b[38;5;124m\"\u001b[39m\u001b[38;5;124mb\u001b[39m\u001b[38;5;124m\"\u001b[39m \u001b[38;5;129;01mnot\u001b[39;00m \u001b[38;5;129;01min\u001b[39;00m mode:\n\u001b[0;32m   1879\u001b[0m         mode \u001b[38;5;241m+\u001b[39m\u001b[38;5;241m=\u001b[39m \u001b[38;5;124m\"\u001b[39m\u001b[38;5;124mb\u001b[39m\u001b[38;5;124m\"\u001b[39m\n\u001b[1;32m-> 1880\u001b[0m \u001b[38;5;28mself\u001b[39m\u001b[38;5;241m.\u001b[39mhandles \u001b[38;5;241m=\u001b[39m \u001b[43mget_handle\u001b[49m\u001b[43m(\u001b[49m\n\u001b[0;32m   1881\u001b[0m \u001b[43m    \u001b[49m\u001b[43mf\u001b[49m\u001b[43m,\u001b[49m\n\u001b[0;32m   1882\u001b[0m \u001b[43m    \u001b[49m\u001b[43mmode\u001b[49m\u001b[43m,\u001b[49m\n\u001b[0;32m   1883\u001b[0m \u001b[43m    \u001b[49m\u001b[43mencoding\u001b[49m\u001b[38;5;241;43m=\u001b[39;49m\u001b[38;5;28;43mself\u001b[39;49m\u001b[38;5;241;43m.\u001b[39;49m\u001b[43moptions\u001b[49m\u001b[38;5;241;43m.\u001b[39;49m\u001b[43mget\u001b[49m\u001b[43m(\u001b[49m\u001b[38;5;124;43m\"\u001b[39;49m\u001b[38;5;124;43mencoding\u001b[39;49m\u001b[38;5;124;43m\"\u001b[39;49m\u001b[43m,\u001b[49m\u001b[43m \u001b[49m\u001b[38;5;28;43;01mNone\u001b[39;49;00m\u001b[43m)\u001b[49m\u001b[43m,\u001b[49m\n\u001b[0;32m   1884\u001b[0m \u001b[43m    \u001b[49m\u001b[43mcompression\u001b[49m\u001b[38;5;241;43m=\u001b[39;49m\u001b[38;5;28;43mself\u001b[39;49m\u001b[38;5;241;43m.\u001b[39;49m\u001b[43moptions\u001b[49m\u001b[38;5;241;43m.\u001b[39;49m\u001b[43mget\u001b[49m\u001b[43m(\u001b[49m\u001b[38;5;124;43m\"\u001b[39;49m\u001b[38;5;124;43mcompression\u001b[39;49m\u001b[38;5;124;43m\"\u001b[39;49m\u001b[43m,\u001b[49m\u001b[43m \u001b[49m\u001b[38;5;28;43;01mNone\u001b[39;49;00m\u001b[43m)\u001b[49m\u001b[43m,\u001b[49m\n\u001b[0;32m   1885\u001b[0m \u001b[43m    \u001b[49m\u001b[43mmemory_map\u001b[49m\u001b[38;5;241;43m=\u001b[39;49m\u001b[38;5;28;43mself\u001b[39;49m\u001b[38;5;241;43m.\u001b[39;49m\u001b[43moptions\u001b[49m\u001b[38;5;241;43m.\u001b[39;49m\u001b[43mget\u001b[49m\u001b[43m(\u001b[49m\u001b[38;5;124;43m\"\u001b[39;49m\u001b[38;5;124;43mmemory_map\u001b[39;49m\u001b[38;5;124;43m\"\u001b[39;49m\u001b[43m,\u001b[49m\u001b[43m \u001b[49m\u001b[38;5;28;43;01mFalse\u001b[39;49;00m\u001b[43m)\u001b[49m\u001b[43m,\u001b[49m\n\u001b[0;32m   1886\u001b[0m \u001b[43m    \u001b[49m\u001b[43mis_text\u001b[49m\u001b[38;5;241;43m=\u001b[39;49m\u001b[43mis_text\u001b[49m\u001b[43m,\u001b[49m\n\u001b[0;32m   1887\u001b[0m \u001b[43m    \u001b[49m\u001b[43merrors\u001b[49m\u001b[38;5;241;43m=\u001b[39;49m\u001b[38;5;28;43mself\u001b[39;49m\u001b[38;5;241;43m.\u001b[39;49m\u001b[43moptions\u001b[49m\u001b[38;5;241;43m.\u001b[39;49m\u001b[43mget\u001b[49m\u001b[43m(\u001b[49m\u001b[38;5;124;43m\"\u001b[39;49m\u001b[38;5;124;43mencoding_errors\u001b[39;49m\u001b[38;5;124;43m\"\u001b[39;49m\u001b[43m,\u001b[49m\u001b[43m \u001b[49m\u001b[38;5;124;43m\"\u001b[39;49m\u001b[38;5;124;43mstrict\u001b[39;49m\u001b[38;5;124;43m\"\u001b[39;49m\u001b[43m)\u001b[49m\u001b[43m,\u001b[49m\n\u001b[0;32m   1888\u001b[0m \u001b[43m    \u001b[49m\u001b[43mstorage_options\u001b[49m\u001b[38;5;241;43m=\u001b[39;49m\u001b[38;5;28;43mself\u001b[39;49m\u001b[38;5;241;43m.\u001b[39;49m\u001b[43moptions\u001b[49m\u001b[38;5;241;43m.\u001b[39;49m\u001b[43mget\u001b[49m\u001b[43m(\u001b[49m\u001b[38;5;124;43m\"\u001b[39;49m\u001b[38;5;124;43mstorage_options\u001b[39;49m\u001b[38;5;124;43m\"\u001b[39;49m\u001b[43m,\u001b[49m\u001b[43m \u001b[49m\u001b[38;5;28;43;01mNone\u001b[39;49;00m\u001b[43m)\u001b[49m\u001b[43m,\u001b[49m\n\u001b[0;32m   1889\u001b[0m \u001b[43m\u001b[49m\u001b[43m)\u001b[49m\n\u001b[0;32m   1890\u001b[0m \u001b[38;5;28;01massert\u001b[39;00m \u001b[38;5;28mself\u001b[39m\u001b[38;5;241m.\u001b[39mhandles \u001b[38;5;129;01mis\u001b[39;00m \u001b[38;5;129;01mnot\u001b[39;00m \u001b[38;5;28;01mNone\u001b[39;00m\n\u001b[0;32m   1891\u001b[0m f \u001b[38;5;241m=\u001b[39m \u001b[38;5;28mself\u001b[39m\u001b[38;5;241m.\u001b[39mhandles\u001b[38;5;241m.\u001b[39mhandle\n",
            "File \u001b[1;32mc:\\Python312\\Lib\\site-packages\\pandas\\io\\common.py:873\u001b[0m, in \u001b[0;36mget_handle\u001b[1;34m(path_or_buf, mode, encoding, compression, memory_map, is_text, errors, storage_options)\u001b[0m\n\u001b[0;32m    868\u001b[0m \u001b[38;5;28;01melif\u001b[39;00m \u001b[38;5;28misinstance\u001b[39m(handle, \u001b[38;5;28mstr\u001b[39m):\n\u001b[0;32m    869\u001b[0m     \u001b[38;5;66;03m# Check whether the filename is to be opened in binary mode.\u001b[39;00m\n\u001b[0;32m    870\u001b[0m     \u001b[38;5;66;03m# Binary mode does not support 'encoding' and 'newline'.\u001b[39;00m\n\u001b[0;32m    871\u001b[0m     \u001b[38;5;28;01mif\u001b[39;00m ioargs\u001b[38;5;241m.\u001b[39mencoding \u001b[38;5;129;01mand\u001b[39;00m \u001b[38;5;124m\"\u001b[39m\u001b[38;5;124mb\u001b[39m\u001b[38;5;124m\"\u001b[39m \u001b[38;5;129;01mnot\u001b[39;00m \u001b[38;5;129;01min\u001b[39;00m ioargs\u001b[38;5;241m.\u001b[39mmode:\n\u001b[0;32m    872\u001b[0m         \u001b[38;5;66;03m# Encoding\u001b[39;00m\n\u001b[1;32m--> 873\u001b[0m         handle \u001b[38;5;241m=\u001b[39m \u001b[38;5;28;43mopen\u001b[39;49m\u001b[43m(\u001b[49m\n\u001b[0;32m    874\u001b[0m \u001b[43m            \u001b[49m\u001b[43mhandle\u001b[49m\u001b[43m,\u001b[49m\n\u001b[0;32m    875\u001b[0m \u001b[43m            \u001b[49m\u001b[43mioargs\u001b[49m\u001b[38;5;241;43m.\u001b[39;49m\u001b[43mmode\u001b[49m\u001b[43m,\u001b[49m\n\u001b[0;32m    876\u001b[0m \u001b[43m            \u001b[49m\u001b[43mencoding\u001b[49m\u001b[38;5;241;43m=\u001b[39;49m\u001b[43mioargs\u001b[49m\u001b[38;5;241;43m.\u001b[39;49m\u001b[43mencoding\u001b[49m\u001b[43m,\u001b[49m\n\u001b[0;32m    877\u001b[0m \u001b[43m            \u001b[49m\u001b[43merrors\u001b[49m\u001b[38;5;241;43m=\u001b[39;49m\u001b[43merrors\u001b[49m\u001b[43m,\u001b[49m\n\u001b[0;32m    878\u001b[0m \u001b[43m            \u001b[49m\u001b[43mnewline\u001b[49m\u001b[38;5;241;43m=\u001b[39;49m\u001b[38;5;124;43m\"\u001b[39;49m\u001b[38;5;124;43m\"\u001b[39;49m\u001b[43m,\u001b[49m\n\u001b[0;32m    879\u001b[0m \u001b[43m        \u001b[49m\u001b[43m)\u001b[49m\n\u001b[0;32m    880\u001b[0m     \u001b[38;5;28;01melse\u001b[39;00m:\n\u001b[0;32m    881\u001b[0m         \u001b[38;5;66;03m# Binary mode\u001b[39;00m\n\u001b[0;32m    882\u001b[0m         handle \u001b[38;5;241m=\u001b[39m \u001b[38;5;28mopen\u001b[39m(handle, ioargs\u001b[38;5;241m.\u001b[39mmode)\n",
            "\u001b[1;31mFileNotFoundError\u001b[0m: [Errno 2] No such file or directory: 'C:\\\\\\\\Users\\\\\\\\User2\\\\\\\\Desktop\\\\\\\\Python\\\\\\\\nbaplayers2.csv'"
          ]
        },
        {
          "ename": "",
          "evalue": "",
          "output_type": "error",
          "traceback": [
            "\u001b[1;31mThe Kernel crashed while executing code in the current cell or a previous cell. \n",
            "\u001b[1;31mPlease review the code in the cell(s) to identify a possible cause of the failure. \n",
            "\u001b[1;31mClick <a href='https://aka.ms/vscodeJupyterKernelCrash'>here</a> for more info. \n",
            "\u001b[1;31mView Jupyter <a href='command:jupyter.viewOutput'>log</a> for further details."
          ]
        }
      ],
      "source": [
        "import pandas as pd\n",
        "import json\n",
        "import matplotlib.pyplot as plt\n",
        "import plotly.express as px\n",
        "import seaborn as sns\n",
        "import numpy\n",
        "import sys\n",
        "\n",
        "\n",
        "\n",
        "file_path = r'C:\\\\Users\\\\User2\\\\Desktop\\\\Python\\\\nbaplayers2.csv' \n",
        "\n",
        "df=pd.read_csv(file_path,delimiter=',')\n",
        "\n",
        "df"
      ]
    },
    {
      "cell_type": "markdown",
      "metadata": {
        "id": "jgWVRO1EypYV"
      },
      "source": [
        "#1. Eventing data\n",
        "\n",
        "1.1. Utilizar sys para añadir al path la ruta donde se encuentran los archivos con nuestra funciones"
      ]
    },
    {
      "cell_type": "code",
      "execution_count": null,
      "metadata": {
        "id": "FgteJ6vYBPx6"
      },
      "outputs": [],
      "source": []
    },
    {
      "cell_type": "markdown",
      "metadata": {
        "id": "iRikTjhNy36U"
      },
      "source": [
        "1.2. Importa functions con el diminutivo f, recuerda que el archivo functions lo creamos en el video 2.5. Crear nuestras propias librerías, que contiene todas las funciones para el tratamiento del eventing data.\n"
      ]
    },
    {
      "cell_type": "code",
      "execution_count": null,
      "metadata": {
        "id": "MD_SnIOdBjzU"
      },
      "outputs": [],
      "source": []
    },
    {
      "cell_type": "markdown",
      "metadata": {
        "id": "pFQ-XzgVy_ld"
      },
      "source": [
        "1.3. Utilizar la función info_json() y elegir la competición Fifa world cup de la temporada 2018. Guarda el valor de salida de la función en la variable matches y muestra los partidos."
      ]
    },
    {
      "cell_type": "code",
      "execution_count": null,
      "metadata": {
        "id": "tj5KNm6BBpES"
      },
      "outputs": [],
      "source": []
    },
    {
      "cell_type": "markdown",
      "metadata": {
        "id": "PCSYObsqzK5J"
      },
      "source": [
        "1.4. Utiliza la función even_data() para obtener el evento shot  de la final de la Fifa Worl Cup, guarda el resultado de salida en la variable shots"
      ]
    },
    {
      "cell_type": "code",
      "execution_count": null,
      "metadata": {
        "id": "Yu-vtUA3Byjj"
      },
      "outputs": [],
      "source": []
    },
    {
      "cell_type": "markdown",
      "metadata": {
        "id": "XEYxrOPczUao"
      },
      "source": [
        "1.5. Utiliza  value_conts() para  mostrar la siguiente información:\n",
        "\n",
        "- El resultado final de los tiros"
      ]
    },
    {
      "cell_type": "code",
      "execution_count": null,
      "metadata": {
        "id": "MMe3MMX6h4wJ"
      },
      "outputs": [],
      "source": []
    },
    {
      "cell_type": "markdown",
      "metadata": {
        "id": "Zbbaf4fWzY4U"
      },
      "source": [
        "- El número de tiros que hizo cada jugador"
      ]
    },
    {
      "cell_type": "code",
      "execution_count": null,
      "metadata": {
        "id": "3hFYOkiJiJAY"
      },
      "outputs": [],
      "source": []
    },
    {
      "cell_type": "markdown",
      "metadata": {
        "id": "UPV487mMzaWH"
      },
      "source": [
        "- El número de tiros que hizo cada equipo"
      ]
    },
    {
      "cell_type": "code",
      "execution_count": null,
      "metadata": {
        "id": "RE6uPjKAiMnL"
      },
      "outputs": [],
      "source": []
    },
    {
      "cell_type": "markdown",
      "metadata": {
        "id": "RewNqaYfzev-"
      },
      "source": [
        "- El xG goal total de Francia, recuerda usar la función sum para el total. "
      ]
    },
    {
      "cell_type": "code",
      "execution_count": null,
      "metadata": {
        "id": "TaXJ-k4kiVMV"
      },
      "outputs": [],
      "source": []
    },
    {
      "cell_type": "markdown",
      "metadata": {
        "id": "yQc6kfLfziDw"
      },
      "source": [
        "- Realiza el mismo procedimiento para Croacia."
      ]
    },
    {
      "cell_type": "code",
      "execution_count": null,
      "metadata": {
        "id": "YkwDoqPvjMAi"
      },
      "outputs": [],
      "source": []
    },
    {
      "cell_type": "markdown",
      "metadata": {
        "id": "CqLs_vhYzqUM"
      },
      "source": [
        "# 2. Visualizar el eventing data\n",
        "\n",
        "2.1. Instala la librería mplsoccer"
      ]
    },
    {
      "cell_type": "code",
      "execution_count": null,
      "metadata": {
        "id": "EAMi1JhPDbZ_"
      },
      "outputs": [],
      "source": []
    },
    {
      "cell_type": "markdown",
      "metadata": {
        "id": "vAeQKUiFzwI8"
      },
      "source": [
        "2.2. Importa el método Pitch de mplsoccer "
      ]
    },
    {
      "cell_type": "code",
      "execution_count": null,
      "metadata": {
        "id": "__o-nL0VDmoB"
      },
      "outputs": [],
      "source": []
    },
    {
      "cell_type": "markdown",
      "metadata": {
        "id": "tGfpnP-dz0NT"
      },
      "source": [
        "2.3. Raliza el código necesario para obtener esta imagen \n",
        "\n",
        "![image.png](data:image/png;base64,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)"
      ]
    },
    {
      "cell_type": "code",
      "execution_count": null,
      "metadata": {
        "id": "0kiqNr-mCs5o"
      },
      "outputs": [],
      "source": []
    },
    {
      "cell_type": "markdown",
      "metadata": {
        "id": "SmDi8VhWz8yE"
      },
      "source": [
        "# 3. Algoritmo Kmeans\n",
        "\n",
        "3.1. Importa el Algoritmo Kmeans"
      ]
    },
    {
      "cell_type": "code",
      "execution_count": null,
      "metadata": {
        "id": "B1eqle73DZQy"
      },
      "outputs": [],
      "source": []
    },
    {
      "cell_type": "markdown",
      "metadata": {
        "id": "X8DMLLDkz_Oe"
      },
      "source": [
        "3.2. Importa los datos ``team_passes_20.csv`` de la carpet clean_data y realiza un .head()\n"
      ]
    },
    {
      "cell_type": "code",
      "execution_count": null,
      "metadata": {
        "id": "vJ0j8vM0jYBx"
      },
      "outputs": [],
      "source": []
    },
    {
      "cell_type": "markdown",
      "metadata": {
        "id": "cElaLBN40IyZ"
      },
      "source": [
        "3.3. Realiza el algoritmo Kmeans con 7 clusters, deja el valor de random_state=1"
      ]
    },
    {
      "cell_type": "code",
      "execution_count": null,
      "metadata": {
        "id": "h6ZzZpPokJpS"
      },
      "outputs": [],
      "source": []
    },
    {
      "cell_type": "markdown",
      "metadata": {
        "id": "wxt3iG_X0Vln"
      },
      "source": [
        "3.4. Entrena el modelo para las columnas ``'Cmp_short'`` y ``'Cmp_long'``"
      ]
    },
    {
      "cell_type": "code",
      "execution_count": null,
      "metadata": {
        "id": "69Dcsqvg0LTf"
      },
      "outputs": [],
      "source": []
    },
    {
      "cell_type": "markdown",
      "metadata": {
        "id": "oErZnxxR0i-Z"
      },
      "source": [
        "3.5. Crea la columna cluster y añade el valor de los clusters, recuerda hacer la transformación para que esté en formato categórico."
      ]
    },
    {
      "cell_type": "code",
      "execution_count": null,
      "metadata": {
        "id": "-92x97Bn0MHz"
      },
      "outputs": [],
      "source": []
    },
    {
      "cell_type": "markdown",
      "metadata": {
        "id": "VEvjwHze0mTu"
      },
      "source": [
        "3.6. Realiza el groupby para ver el valor promedio de cada cluster y las dos métricas."
      ]
    },
    {
      "cell_type": "code",
      "execution_count": null,
      "metadata": {
        "id": "SdSDPRuR0QEt"
      },
      "outputs": [],
      "source": []
    },
    {
      "cell_type": "markdown",
      "metadata": {
        "id": "r9qeb02H05Hd"
      },
      "source": [
        "3.7. Visualiza con con la librería seaborn un scatter plot, recuerda añadir el color de cada punto en función del cluster al que pertenece. Utiliza un bucle for junto con plt.annotate() para añadir el nombre de los equipos al gráfico, esto lo puedes encontrar en el video 3.4 Añadir texto al gráfico, del módulo 2."
      ]
    },
    {
      "cell_type": "code",
      "execution_count": null,
      "metadata": {
        "id": "tz72vghqpxYs"
      },
      "outputs": [],
      "source": []
    },
    {
      "cell_type": "markdown",
      "metadata": {
        "id": "O1nyb9mq1cTW"
      },
      "source": [
        "3.8. Realiza los mismos procedimientos anteriores que hicimos en la creación del cluster pero con las 3 métricas ``'Cmp_short'``, ``'Cmp_long'``, ``'PrgDist'``.Esta vez todo en una celda, desde la creación del cluster hasta mostrar el .groupby()"
      ]
    },
    {
      "cell_type": "code",
      "execution_count": null,
      "metadata": {
        "id": "pF14aOO-lMUo"
      },
      "outputs": [],
      "source": []
    },
    {
      "cell_type": "markdown",
      "metadata": {
        "id": "XBurPnFY1ldt"
      },
      "source": [
        "3.9. Realiza un gráfico en 3D con la librería plotly de las tres métricas, añade el color en función del cluster y el nombre de los equipos al gráfico. "
      ]
    },
    {
      "cell_type": "code",
      "execution_count": null,
      "metadata": {
        "id": "5Da_AxbPmrF-"
      },
      "outputs": [],
      "source": []
    }
  ],
  "metadata": {
    "colab": {
      "collapsed_sections": [],
      "name": "Tarea_practica_M3_nombre_apellido1_apellido2.ipynb",
      "provenance": [],
      "toc_visible": true
    },
    "kernelspec": {
      "display_name": "Python 3",
      "name": "python3"
    },
    "language_info": {
      "codemirror_mode": {
        "name": "ipython",
        "version": 3
      },
      "file_extension": ".py",
      "mimetype": "text/x-python",
      "name": "python",
      "nbconvert_exporter": "python",
      "pygments_lexer": "ipython3",
      "version": "3.12.4"
    }
  },
  "nbformat": 4,
  "nbformat_minor": 0
}
